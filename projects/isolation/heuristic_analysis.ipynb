{
 "cells": [
  {
   "cell_type": "markdown",
   "metadata": {},
   "source": [
    "# **Heuristic Analysis**\n",
    "by Fernando Martinelli Ramacciotti"
   ]
  },
  {
   "cell_type": "markdown",
   "metadata": {},
   "source": [
    "## **Overall comparison**\n",
    "<img src=\"heuristic_comparison.PNG\">\n",
    "\n",
    "The simplest heuristic (ratio of remaining legal moves) outperformed the improved and second ones. The third heuristic, a bit more sophisticated as we will see below, outperformed all the others.\n",
    "\n",
    "It is intereting to notice, however, that the first and third heuritic never lost the majority of games of any kind, i.e., their worse results was a draw (5 x 5)."
   ]
  },
  {
   "cell_type": "markdown",
   "metadata": {},
   "source": [
    "### **Heuristic 1**\n",
    "The first heuristic follows the intuition that the more legal moves left at any given moment, the better, but with a twist. It actually compares the active player's legal moves at the given time with its opponent's. Therefore, if the opponent has more legal moves left than the active player, then the active player's score is worsened.\n",
    "\n",
    "The implementation is calculated with natural logarithms of the remaining legal moves with biased by one unit (because there can be zero remaining moves and its logarithm is undefined).\n",
    "\n",
    "$$\\mathit{score} = \\log(M_a + 1) - \\log(M_o + 1), $$ \n",
    "where $M_i$ is the remaining legal moves $M$ of the player $i$, where $a$ stands for active player and $o$ for opponent."
   ]
  },
  {
   "cell_type": "markdown",
   "metadata": {},
   "source": [
    "### **Heuristic 2**\n",
    "The second heurist is the (Euclidean) distance between players. It follows that, presumably, the further a player is from its opponent, the better. Surely, it also depends on the remaining legal moves, but this is left to the next heuristic.\n",
    "\n",
    "$$\\mathit{score} = \\sqrt{(x_a - x_o)^2 + (y_a - y_o)^2}, $$ \n",
    "where $(x_i, y_i)$ are the position's coordinates from the player $i$, where $a$ stands for active player and $o$ for opponent."
   ]
  },
  {
   "cell_type": "markdown",
   "metadata": {},
   "source": [
    "### **Heuristic 3**\n",
    "The third heurist is an extension of the other two. It is the difference of each player's to the center weighted by its remaining legal moves at the given time. It follows that the more central positioned a player is, the better options it has, but to ensure it has more option.\n",
    "\n",
    "$$\\mathit{score} = \\log(D_{a} M_a + 1) - \\log(D_{o} M_o + 1), $$ \n",
    "where $M_i$ is the remaining legal moves $M$ of the player $i$, and $D_{i}$ stands for the player's $i$ distance from the center of the board, where $a$ stands for active player and $o$ for opponent"
   ]
  }
 ],
 "metadata": {
  "kernelspec": {
   "display_name": "Python 3",
   "language": "python",
   "name": "python3"
  },
  "language_info": {
   "codemirror_mode": {
    "name": "ipython",
    "version": 3
   },
   "file_extension": ".py",
   "mimetype": "text/x-python",
   "name": "python",
   "nbconvert_exporter": "python",
   "pygments_lexer": "ipython3",
   "version": "3.6.1"
  }
 },
 "nbformat": 4,
 "nbformat_minor": 2
}
